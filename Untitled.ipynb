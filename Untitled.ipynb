{
 "cells": [
  {
   "cell_type": "code",
   "execution_count": 1,
   "metadata": {},
   "outputs": [
    {
     "data": {
      "text/plain": [
       "'0.4.1.post2'"
      ]
     },
     "execution_count": 1,
     "metadata": {},
     "output_type": "execute_result"
    }
   ],
   "source": [
    "import torch\n",
    "torch.__version__"
   ]
  },
  {
   "cell_type": "code",
   "execution_count": 2,
   "metadata": {},
   "outputs": [
    {
     "name": "stdout",
     "output_type": "stream",
     "text": [
      "/home/purva/Desktop/utk/OISR-PyTorch-master\r\n"
     ]
    }
   ],
   "source": [
    "!pwd"
   ]
  },
  {
   "cell_type": "code",
   "execution_count": 4,
   "metadata": {},
   "outputs": [
    {
     "name": "stdout",
     "output_type": "stream",
     "text": [
      "Archive:  /home/purva/Desktop/utk/OISR/data.zip\n",
      "   creating: ./NTIRE2019/data/\n",
      "   creating: ./NTIRE2019/data/DIV2K/\n",
      "   creating: ./NTIRE2019/data/DIV2K/DIV2K_test_LR_bicubic/\n",
      "   creating: ./NTIRE2019/data/DIV2K/DIV2K_test_LR_bicubic/X1/\n",
      "  inflating: ./NTIRE2019/data/DIV2K/DIV2K_test_LR_bicubic/X1/0084x1.png  \n",
      "  inflating: ./NTIRE2019/data/DIV2K/DIV2K_test_LR_bicubic/X1/0085x1.png  \n",
      "  inflating: ./NTIRE2019/data/DIV2K/DIV2K_test_LR_bicubic/X1/0086x1.png  \n",
      "  inflating: ./NTIRE2019/data/DIV2K/DIV2K_test_LR_bicubic/X1/0087x1.png  \n",
      "  inflating: ./NTIRE2019/data/DIV2K/DIV2K_test_LR_bicubic/X1/0088x1.png  \n",
      "  inflating: ./NTIRE2019/data/DIV2K/DIV2K_test_LR_bicubic/X1/0089x1.png  \n",
      "  inflating: ./NTIRE2019/data/DIV2K/DIV2K_test_LR_bicubic/X1/0090x1.png  \n",
      "  inflating: ./NTIRE2019/data/DIV2K/DIV2K_test_LR_bicubic/X1/0091x1.png  \n",
      "  inflating: ./NTIRE2019/data/DIV2K/DIV2K_test_LR_bicubic/X1/0092x1.png  \n",
      "  inflating: ./NTIRE2019/data/DIV2K/DIV2K_test_LR_bicubic/X1/0093x1.png  \n",
      "  inflating: ./NTIRE2019/data/DIV2K/DIV2K_test_LR_bicubic/X1/0094x1.png  \n",
      "  inflating: ./NTIRE2019/data/DIV2K/DIV2K_test_LR_bicubic/X1/0095x1.png  \n",
      "  inflating: ./NTIRE2019/data/DIV2K/DIV2K_test_LR_bicubic/X1/0096x1.png  \n",
      "  inflating: ./NTIRE2019/data/DIV2K/DIV2K_test_LR_bicubic/X1/0097x1.png  \n",
      "  inflating: ./NTIRE2019/data/DIV2K/DIV2K_test_LR_bicubic/X1/0098x1.png  \n",
      "  inflating: ./NTIRE2019/data/DIV2K/DIV2K_test_LR_bicubic/X1/0099x1.png  \n",
      "  inflating: ./NTIRE2019/data/DIV2K/DIV2K_test_LR_bicubic/X1/0100x1.png  \n",
      "  inflating: ./NTIRE2019/data/DIV2K/DIV2K_test_LR_bicubic/X1/0101x1.png  \n",
      "  inflating: ./NTIRE2019/data/DIV2K/DIV2K_test_LR_bicubic/X1/0102x1.png  \n",
      "  inflating: ./NTIRE2019/data/DIV2K/DIV2K_test_LR_bicubic/X1/0103x1.png  \n",
      "  inflating: ./NTIRE2019/data/DIV2K/DIV2K_test_LR_bicubic/X1/0104x1.png  \n",
      "   creating: ./NTIRE2019/data/DIV2K/DIV2K_train_HR/\n",
      "  inflating: ./NTIRE2019/data/DIV2K/DIV2K_train_HR/0000.png  \n",
      "  inflating: ./NTIRE2019/data/DIV2K/DIV2K_train_HR/0001.png  \n",
      "  inflating: ./NTIRE2019/data/DIV2K/DIV2K_train_HR/0002.png  \n",
      "  inflating: ./NTIRE2019/data/DIV2K/DIV2K_train_HR/0003.png  \n",
      "  inflating: ./NTIRE2019/data/DIV2K/DIV2K_train_HR/0004.png  \n",
      "  inflating: ./NTIRE2019/data/DIV2K/DIV2K_train_HR/0005.png  \n",
      "  inflating: ./NTIRE2019/data/DIV2K/DIV2K_train_HR/0006.png  \n",
      "  inflating: ./NTIRE2019/data/DIV2K/DIV2K_train_HR/0007.png  \n",
      "  inflating: ./NTIRE2019/data/DIV2K/DIV2K_train_HR/0008.png  \n",
      "  inflating: ./NTIRE2019/data/DIV2K/DIV2K_train_HR/0009.png  \n",
      "  inflating: ./NTIRE2019/data/DIV2K/DIV2K_train_HR/0010.png  \n",
      "  inflating: ./NTIRE2019/data/DIV2K/DIV2K_train_HR/0011.png  \n",
      "  inflating: ./NTIRE2019/data/DIV2K/DIV2K_train_HR/0012.png  \n",
      "  inflating: ./NTIRE2019/data/DIV2K/DIV2K_train_HR/0013.png  \n",
      "  inflating: ./NTIRE2019/data/DIV2K/DIV2K_train_HR/0014.png  \n",
      "  inflating: ./NTIRE2019/data/DIV2K/DIV2K_train_HR/0015.png  \n",
      "  inflating: ./NTIRE2019/data/DIV2K/DIV2K_train_HR/0016.png  \n",
      "  inflating: ./NTIRE2019/data/DIV2K/DIV2K_train_HR/0017.png  \n",
      "  inflating: ./NTIRE2019/data/DIV2K/DIV2K_train_HR/0018.png  \n",
      "  inflating: ./NTIRE2019/data/DIV2K/DIV2K_train_HR/0019.png  \n",
      "  inflating: ./NTIRE2019/data/DIV2K/DIV2K_train_HR/0020.png  \n",
      "  inflating: ./NTIRE2019/data/DIV2K/DIV2K_train_HR/0021.png  \n",
      "  inflating: ./NTIRE2019/data/DIV2K/DIV2K_train_HR/0022.png  \n",
      "  inflating: ./NTIRE2019/data/DIV2K/DIV2K_train_HR/0023.png  \n",
      "  inflating: ./NTIRE2019/data/DIV2K/DIV2K_train_HR/0024.png  \n",
      "  inflating: ./NTIRE2019/data/DIV2K/DIV2K_train_HR/0025.png  \n",
      "  inflating: ./NTIRE2019/data/DIV2K/DIV2K_train_HR/0026.png  \n",
      "  inflating: ./NTIRE2019/data/DIV2K/DIV2K_train_HR/0027.png  \n",
      "  inflating: ./NTIRE2019/data/DIV2K/DIV2K_train_HR/0028.png  \n",
      "  inflating: ./NTIRE2019/data/DIV2K/DIV2K_train_HR/0029.png  \n",
      "  inflating: ./NTIRE2019/data/DIV2K/DIV2K_train_HR/0030.png  \n",
      "  inflating: ./NTIRE2019/data/DIV2K/DIV2K_train_HR/0031.png  \n",
      "  inflating: ./NTIRE2019/data/DIV2K/DIV2K_train_HR/0032.png  \n",
      "  inflating: ./NTIRE2019/data/DIV2K/DIV2K_train_HR/0033.png  \n",
      "  inflating: ./NTIRE2019/data/DIV2K/DIV2K_train_HR/0034.png  \n",
      "  inflating: ./NTIRE2019/data/DIV2K/DIV2K_train_HR/0035.png  \n",
      "  inflating: ./NTIRE2019/data/DIV2K/DIV2K_train_HR/0036.png  \n",
      "  inflating: ./NTIRE2019/data/DIV2K/DIV2K_train_HR/0037.png  \n",
      "  inflating: ./NTIRE2019/data/DIV2K/DIV2K_train_HR/0038.png  \n",
      "  inflating: ./NTIRE2019/data/DIV2K/DIV2K_train_HR/0039.png  \n",
      "  inflating: ./NTIRE2019/data/DIV2K/DIV2K_train_HR/0040.png  \n",
      "  inflating: ./NTIRE2019/data/DIV2K/DIV2K_train_HR/0041.png  \n",
      "  inflating: ./NTIRE2019/data/DIV2K/DIV2K_train_HR/0042.png  \n",
      "  inflating: ./NTIRE2019/data/DIV2K/DIV2K_train_HR/0043.png  \n",
      "  inflating: ./NTIRE2019/data/DIV2K/DIV2K_train_HR/0044.png  \n",
      "  inflating: ./NTIRE2019/data/DIV2K/DIV2K_train_HR/0045.png  \n",
      "  inflating: ./NTIRE2019/data/DIV2K/DIV2K_train_HR/0046.png  \n",
      "  inflating: ./NTIRE2019/data/DIV2K/DIV2K_train_HR/0047.png  \n",
      "  inflating: ./NTIRE2019/data/DIV2K/DIV2K_train_HR/0048.png  \n",
      "  inflating: ./NTIRE2019/data/DIV2K/DIV2K_train_HR/0049.png  \n",
      "  inflating: ./NTIRE2019/data/DIV2K/DIV2K_train_HR/0050.png  \n",
      "  inflating: ./NTIRE2019/data/DIV2K/DIV2K_train_HR/0051.png  \n",
      "  inflating: ./NTIRE2019/data/DIV2K/DIV2K_train_HR/0052.png  \n",
      "  inflating: ./NTIRE2019/data/DIV2K/DIV2K_train_HR/0053.png  \n",
      "  inflating: ./NTIRE2019/data/DIV2K/DIV2K_train_HR/0054.png  \n",
      "  inflating: ./NTIRE2019/data/DIV2K/DIV2K_train_HR/0055.png  \n",
      "  inflating: ./NTIRE2019/data/DIV2K/DIV2K_train_HR/0056.png  \n",
      "  inflating: ./NTIRE2019/data/DIV2K/DIV2K_train_HR/0057.png  \n",
      "  inflating: ./NTIRE2019/data/DIV2K/DIV2K_train_HR/0058.png  \n",
      "  inflating: ./NTIRE2019/data/DIV2K/DIV2K_train_HR/0059.png  \n",
      "  inflating: ./NTIRE2019/data/DIV2K/DIV2K_train_HR/0060.png  \n",
      "  inflating: ./NTIRE2019/data/DIV2K/DIV2K_train_HR/0061.png  \n",
      "  inflating: ./NTIRE2019/data/DIV2K/DIV2K_train_HR/0062.png  \n",
      "  inflating: ./NTIRE2019/data/DIV2K/DIV2K_train_HR/0063.png  \n",
      "  inflating: ./NTIRE2019/data/DIV2K/DIV2K_train_HR/0064.png  \n",
      "  inflating: ./NTIRE2019/data/DIV2K/DIV2K_train_HR/0065.png  \n",
      "  inflating: ./NTIRE2019/data/DIV2K/DIV2K_train_HR/0066.png  \n",
      "  inflating: ./NTIRE2019/data/DIV2K/DIV2K_train_HR/0067.png  \n",
      "  inflating: ./NTIRE2019/data/DIV2K/DIV2K_train_HR/0068.png  \n",
      "  inflating: ./NTIRE2019/data/DIV2K/DIV2K_train_HR/0069.png  \n",
      "  inflating: ./NTIRE2019/data/DIV2K/DIV2K_train_HR/0070.png  \n",
      "  inflating: ./NTIRE2019/data/DIV2K/DIV2K_train_HR/0071.png  \n",
      "  inflating: ./NTIRE2019/data/DIV2K/DIV2K_train_HR/0072.png  \n",
      "  inflating: ./NTIRE2019/data/DIV2K/DIV2K_train_HR/0073.png  \n",
      "  inflating: ./NTIRE2019/data/DIV2K/DIV2K_train_HR/0074.png  \n",
      "  inflating: ./NTIRE2019/data/DIV2K/DIV2K_train_HR/0075.png  \n",
      "  inflating: ./NTIRE2019/data/DIV2K/DIV2K_train_HR/0076.png  \n",
      "  inflating: ./NTIRE2019/data/DIV2K/DIV2K_train_HR/0077.png  \n",
      "  inflating: ./NTIRE2019/data/DIV2K/DIV2K_train_HR/0078.png  \n",
      "  inflating: ./NTIRE2019/data/DIV2K/DIV2K_train_HR/0079.png  \n",
      "  inflating: ./NTIRE2019/data/DIV2K/DIV2K_train_HR/0080.png  \n",
      "  inflating: ./NTIRE2019/data/DIV2K/DIV2K_train_HR/0081.png  \n",
      "  inflating: ./NTIRE2019/data/DIV2K/DIV2K_train_HR/0082.png  \n",
      "  inflating: ./NTIRE2019/data/DIV2K/DIV2K_train_HR/0083.png  \n",
      "  inflating: ./NTIRE2019/data/DIV2K/DIV2K_train_HR/0084.png  \n",
      "  inflating: ./NTIRE2019/data/DIV2K/DIV2K_train_HR/0085.png  \n",
      "  inflating: ./NTIRE2019/data/DIV2K/DIV2K_train_HR/0086.png  \n",
      "  inflating: ./NTIRE2019/data/DIV2K/DIV2K_train_HR/0087.png  \n",
      "  inflating: ./NTIRE2019/data/DIV2K/DIV2K_train_HR/0088.png  \n",
      "  inflating: ./NTIRE2019/data/DIV2K/DIV2K_train_HR/0089.png  \n",
      "  inflating: ./NTIRE2019/data/DIV2K/DIV2K_train_HR/0090.png  \n",
      "  inflating: ./NTIRE2019/data/DIV2K/DIV2K_train_HR/0091.png  \n",
      "  inflating: ./NTIRE2019/data/DIV2K/DIV2K_train_HR/0092.png  \n",
      "  inflating: ./NTIRE2019/data/DIV2K/DIV2K_train_HR/0093.png  \n",
      "  inflating: ./NTIRE2019/data/DIV2K/DIV2K_train_HR/0094.png  \n",
      "  inflating: ./NTIRE2019/data/DIV2K/DIV2K_train_HR/0095.png  \n",
      "  inflating: ./NTIRE2019/data/DIV2K/DIV2K_train_HR/0096.png  \n",
      "  inflating: ./NTIRE2019/data/DIV2K/DIV2K_train_HR/0097.png  \n",
      "  inflating: ./NTIRE2019/data/DIV2K/DIV2K_train_HR/0098.png  \n",
      "  inflating: ./NTIRE2019/data/DIV2K/DIV2K_train_HR/0099.png  \n",
      "  inflating: ./NTIRE2019/data/DIV2K/DIV2K_train_HR/0100.png  \n",
      "  inflating: ./NTIRE2019/data/DIV2K/DIV2K_train_HR/0101.png  \n",
      "  inflating: ./NTIRE2019/data/DIV2K/DIV2K_train_HR/0102.png  \n",
      "  inflating: ./NTIRE2019/data/DIV2K/DIV2K_train_HR/0103.png  \n",
      "  inflating: ./NTIRE2019/data/DIV2K/DIV2K_train_HR/0104.png  \n",
      "   creating: ./NTIRE2019/data/DIV2K/DIV2K_train_LR_bicubic/\n",
      "   creating: ./NTIRE2019/data/DIV2K/DIV2K_train_LR_bicubic/X1/\n",
      "  inflating: ./NTIRE2019/data/DIV2K/DIV2K_train_LR_bicubic/X1/0000x1.png  \n",
      "  inflating: ./NTIRE2019/data/DIV2K/DIV2K_train_LR_bicubic/X1/0001x1.png  \n",
      "  inflating: ./NTIRE2019/data/DIV2K/DIV2K_train_LR_bicubic/X1/0002x1.png  \n",
      "  inflating: ./NTIRE2019/data/DIV2K/DIV2K_train_LR_bicubic/X1/0003x1.png  \n",
      "  inflating: ./NTIRE2019/data/DIV2K/DIV2K_train_LR_bicubic/X1/0004x1.png  \n",
      "  inflating: ./NTIRE2019/data/DIV2K/DIV2K_train_LR_bicubic/X1/0005x1.png  \n",
      "  inflating: ./NTIRE2019/data/DIV2K/DIV2K_train_LR_bicubic/X1/0006x1.png  \n",
      "  inflating: ./NTIRE2019/data/DIV2K/DIV2K_train_LR_bicubic/X1/0007x1.png  \n",
      "  inflating: ./NTIRE2019/data/DIV2K/DIV2K_train_LR_bicubic/X1/0008x1.png  \n",
      "  inflating: ./NTIRE2019/data/DIV2K/DIV2K_train_LR_bicubic/X1/0009x1.png  \n",
      "  inflating: ./NTIRE2019/data/DIV2K/DIV2K_train_LR_bicubic/X1/0010x1.png  \n",
      "  inflating: ./NTIRE2019/data/DIV2K/DIV2K_train_LR_bicubic/X1/0011x1.png  \n",
      "  inflating: ./NTIRE2019/data/DIV2K/DIV2K_train_LR_bicubic/X1/0012x1.png  \n",
      "  inflating: ./NTIRE2019/data/DIV2K/DIV2K_train_LR_bicubic/X1/0013x1.png  \n",
      "  inflating: ./NTIRE2019/data/DIV2K/DIV2K_train_LR_bicubic/X1/0014x1.png  \n",
      "  inflating: ./NTIRE2019/data/DIV2K/DIV2K_train_LR_bicubic/X1/0015x1.png  \n",
      "  inflating: ./NTIRE2019/data/DIV2K/DIV2K_train_LR_bicubic/X1/0016x1.png  \n",
      "  inflating: ./NTIRE2019/data/DIV2K/DIV2K_train_LR_bicubic/X1/0017x1.png  \n",
      "  inflating: ./NTIRE2019/data/DIV2K/DIV2K_train_LR_bicubic/X1/0018x1.png  \n",
      "  inflating: ./NTIRE2019/data/DIV2K/DIV2K_train_LR_bicubic/X1/0019x1.png  \n",
      "  inflating: ./NTIRE2019/data/DIV2K/DIV2K_train_LR_bicubic/X1/0020x1.png  \n",
      "  inflating: ./NTIRE2019/data/DIV2K/DIV2K_train_LR_bicubic/X1/0021x1.png  \n",
      "  inflating: ./NTIRE2019/data/DIV2K/DIV2K_train_LR_bicubic/X1/0022x1.png  \n",
      "  inflating: ./NTIRE2019/data/DIV2K/DIV2K_train_LR_bicubic/X1/0023x1.png  \n",
      "  inflating: ./NTIRE2019/data/DIV2K/DIV2K_train_LR_bicubic/X1/0024x1.png  \n",
      "  inflating: ./NTIRE2019/data/DIV2K/DIV2K_train_LR_bicubic/X1/0025x1.png  \n",
      "  inflating: ./NTIRE2019/data/DIV2K/DIV2K_train_LR_bicubic/X1/0026x1.png  \n",
      "  inflating: ./NTIRE2019/data/DIV2K/DIV2K_train_LR_bicubic/X1/0027x1.png  \n",
      "  inflating: ./NTIRE2019/data/DIV2K/DIV2K_train_LR_bicubic/X1/0028x1.png  \n",
      "  inflating: ./NTIRE2019/data/DIV2K/DIV2K_train_LR_bicubic/X1/0029x1.png  \n",
      "  inflating: ./NTIRE2019/data/DIV2K/DIV2K_train_LR_bicubic/X1/0030x1.png  \n",
      "  inflating: ./NTIRE2019/data/DIV2K/DIV2K_train_LR_bicubic/X1/0031x1.png  \n",
      "  inflating: ./NTIRE2019/data/DIV2K/DIV2K_train_LR_bicubic/X1/0032x1.png  \n",
      "  inflating: ./NTIRE2019/data/DIV2K/DIV2K_train_LR_bicubic/X1/0033x1.png  \n",
      "  inflating: ./NTIRE2019/data/DIV2K/DIV2K_train_LR_bicubic/X1/0034x1.png  \n",
      "  inflating: ./NTIRE2019/data/DIV2K/DIV2K_train_LR_bicubic/X1/0035x1.png  \n",
      "  inflating: ./NTIRE2019/data/DIV2K/DIV2K_train_LR_bicubic/X1/0036x1.png  \n",
      "  inflating: ./NTIRE2019/data/DIV2K/DIV2K_train_LR_bicubic/X1/0037x1.png  \n",
      "  inflating: ./NTIRE2019/data/DIV2K/DIV2K_train_LR_bicubic/X1/0038x1.png  \n",
      "  inflating: ./NTIRE2019/data/DIV2K/DIV2K_train_LR_bicubic/X1/0039x1.png  \n",
      "  inflating: ./NTIRE2019/data/DIV2K/DIV2K_train_LR_bicubic/X1/0040x1.png  \n",
      "  inflating: ./NTIRE2019/data/DIV2K/DIV2K_train_LR_bicubic/X1/0041x1.png  \n",
      "  inflating: ./NTIRE2019/data/DIV2K/DIV2K_train_LR_bicubic/X1/0042x1.png  \n",
      "  inflating: ./NTIRE2019/data/DIV2K/DIV2K_train_LR_bicubic/X1/0043x1.png  \n",
      "  inflating: ./NTIRE2019/data/DIV2K/DIV2K_train_LR_bicubic/X1/0044x1.png  \n",
      "  inflating: ./NTIRE2019/data/DIV2K/DIV2K_train_LR_bicubic/X1/0045x1.png  \n",
      "  inflating: ./NTIRE2019/data/DIV2K/DIV2K_train_LR_bicubic/X1/0046x1.png  \n",
      "  inflating: ./NTIRE2019/data/DIV2K/DIV2K_train_LR_bicubic/X1/0047x1.png  \n",
      "  inflating: ./NTIRE2019/data/DIV2K/DIV2K_train_LR_bicubic/X1/0048x1.png  \n",
      "  inflating: ./NTIRE2019/data/DIV2K/DIV2K_train_LR_bicubic/X1/0049x1.png  \n",
      "  inflating: ./NTIRE2019/data/DIV2K/DIV2K_train_LR_bicubic/X1/0050x1.png  \n",
      "  inflating: ./NTIRE2019/data/DIV2K/DIV2K_train_LR_bicubic/X1/0051x1.png  \n",
      "  inflating: ./NTIRE2019/data/DIV2K/DIV2K_train_LR_bicubic/X1/0052x1.png  \n",
      "  inflating: ./NTIRE2019/data/DIV2K/DIV2K_train_LR_bicubic/X1/0053x1.png  \n",
      "  inflating: ./NTIRE2019/data/DIV2K/DIV2K_train_LR_bicubic/X1/0054x1.png  \n",
      "  inflating: ./NTIRE2019/data/DIV2K/DIV2K_train_LR_bicubic/X1/0055x1.png  \n",
      "  inflating: ./NTIRE2019/data/DIV2K/DIV2K_train_LR_bicubic/X1/0056x1.png  \n",
      "  inflating: ./NTIRE2019/data/DIV2K/DIV2K_train_LR_bicubic/X1/0057x1.png  \n",
      "  inflating: ./NTIRE2019/data/DIV2K/DIV2K_train_LR_bicubic/X1/0058x1.png  \n",
      "  inflating: ./NTIRE2019/data/DIV2K/DIV2K_train_LR_bicubic/X1/0059x1.png  \n",
      "  inflating: ./NTIRE2019/data/DIV2K/DIV2K_train_LR_bicubic/X1/0060x1.png  \n",
      "  inflating: ./NTIRE2019/data/DIV2K/DIV2K_train_LR_bicubic/X1/0061x1.png  \n",
      "  inflating: ./NTIRE2019/data/DIV2K/DIV2K_train_LR_bicubic/X1/0062x1.png  \n",
      "  inflating: ./NTIRE2019/data/DIV2K/DIV2K_train_LR_bicubic/X1/0063x1.png  \n",
      "  inflating: ./NTIRE2019/data/DIV2K/DIV2K_train_LR_bicubic/X1/0064x1.png  \n",
      "  inflating: ./NTIRE2019/data/DIV2K/DIV2K_train_LR_bicubic/X1/0065x1.png  \n",
      "  inflating: ./NTIRE2019/data/DIV2K/DIV2K_train_LR_bicubic/X1/0066x1.png  \n",
      "  inflating: ./NTIRE2019/data/DIV2K/DIV2K_train_LR_bicubic/X1/0067x1.png  \n",
      "  inflating: ./NTIRE2019/data/DIV2K/DIV2K_train_LR_bicubic/X1/0068x1.png  \n",
      "  inflating: ./NTIRE2019/data/DIV2K/DIV2K_train_LR_bicubic/X1/0069x1.png  \n",
      "  inflating: ./NTIRE2019/data/DIV2K/DIV2K_train_LR_bicubic/X1/0070x1.png  \n",
      "  inflating: ./NTIRE2019/data/DIV2K/DIV2K_train_LR_bicubic/X1/0071x1.png  \n",
      "  inflating: ./NTIRE2019/data/DIV2K/DIV2K_train_LR_bicubic/X1/0072x1.png  \n",
      "  inflating: ./NTIRE2019/data/DIV2K/DIV2K_train_LR_bicubic/X1/0073x1.png  \n",
      "  inflating: ./NTIRE2019/data/DIV2K/DIV2K_train_LR_bicubic/X1/0074x1.png  \n",
      "  inflating: ./NTIRE2019/data/DIV2K/DIV2K_train_LR_bicubic/X1/0075x1.png  \n",
      "  inflating: ./NTIRE2019/data/DIV2K/DIV2K_train_LR_bicubic/X1/0076x1.png  \n",
      "  inflating: ./NTIRE2019/data/DIV2K/DIV2K_train_LR_bicubic/X1/0077x1.png  \n",
      "  inflating: ./NTIRE2019/data/DIV2K/DIV2K_train_LR_bicubic/X1/0078x1.png  \n",
      "  inflating: ./NTIRE2019/data/DIV2K/DIV2K_train_LR_bicubic/X1/0079x1.png  \n",
      "  inflating: ./NTIRE2019/data/DIV2K/DIV2K_train_LR_bicubic/X1/0080x1.png  \n",
      "  inflating: ./NTIRE2019/data/DIV2K/DIV2K_train_LR_bicubic/X1/0081x1.png  \n",
      "  inflating: ./NTIRE2019/data/DIV2K/DIV2K_train_LR_bicubic/X1/0082x1.png  \n",
      "  inflating: ./NTIRE2019/data/DIV2K/DIV2K_train_LR_bicubic/X1/0083x1.png  \n",
      "  inflating: ./NTIRE2019/data/DIV2K/DIV2K_train_LR_bicubic/X1/0084x1.png  \n",
      "  inflating: ./NTIRE2019/data/DIV2K/DIV2K_train_LR_bicubic/X1/0085x1.png  \n",
      "  inflating: ./NTIRE2019/data/DIV2K/DIV2K_train_LR_bicubic/X1/0086x1.png  \n",
      "  inflating: ./NTIRE2019/data/DIV2K/DIV2K_train_LR_bicubic/X1/0087x1.png  \n",
      "  inflating: ./NTIRE2019/data/DIV2K/DIV2K_train_LR_bicubic/X1/0088x1.png  \n",
      "  inflating: ./NTIRE2019/data/DIV2K/DIV2K_train_LR_bicubic/X1/0089x1.png  \n",
      "  inflating: ./NTIRE2019/data/DIV2K/DIV2K_train_LR_bicubic/X1/0090x1.png  \n",
      "  inflating: ./NTIRE2019/data/DIV2K/DIV2K_train_LR_bicubic/X1/0091x1.png  \n",
      "  inflating: ./NTIRE2019/data/DIV2K/DIV2K_train_LR_bicubic/X1/0092x1.png  \n",
      "  inflating: ./NTIRE2019/data/DIV2K/DIV2K_train_LR_bicubic/X1/0093x1.png  \n",
      "  inflating: ./NTIRE2019/data/DIV2K/DIV2K_train_LR_bicubic/X1/0094x1.png  \n",
      "  inflating: ./NTIRE2019/data/DIV2K/DIV2K_train_LR_bicubic/X1/0095x1.png  \n",
      "  inflating: ./NTIRE2019/data/DIV2K/DIV2K_train_LR_bicubic/X1/0096x1.png  \n",
      "  inflating: ./NTIRE2019/data/DIV2K/DIV2K_train_LR_bicubic/X1/0097x1.png  \n",
      "  inflating: ./NTIRE2019/data/DIV2K/DIV2K_train_LR_bicubic/X1/0098x1.png  \n",
      "  inflating: ./NTIRE2019/data/DIV2K/DIV2K_train_LR_bicubic/X1/0099x1.png  \n",
      "  inflating: ./NTIRE2019/data/DIV2K/DIV2K_train_LR_bicubic/X1/0100x1.png  \n",
      "  inflating: ./NTIRE2019/data/DIV2K/DIV2K_train_LR_bicubic/X1/0101x1.png  \n",
      "  inflating: ./NTIRE2019/data/DIV2K/DIV2K_train_LR_bicubic/X1/0102x1.png  \n",
      "  inflating: ./NTIRE2019/data/DIV2K/DIV2K_train_LR_bicubic/X1/0103x1.png  \n",
      "  inflating: ./NTIRE2019/data/DIV2K/DIV2K_train_LR_bicubic/X1/0104x1.png  \n"
     ]
    }
   ],
   "source": [
    "!unzip \"/home/purva/Desktop/utk/OISR/data.zip\" -d \"./NTIRE2019/\""
   ]
  },
  {
   "cell_type": "code",
   "execution_count": 3,
   "metadata": {},
   "outputs": [
    {
     "name": "stdout",
     "output_type": "stream",
     "text": [
      "/home/purva/Desktop/utk/OISR-PyTorch-master/NTIRE2019/OISR/src\n"
     ]
    }
   ],
   "source": [
    "cd ./NTIRE2019/OISR/src\n"
   ]
  },
  {
   "cell_type": "code",
   "execution_count": 4,
   "metadata": {},
   "outputs": [
    {
     "name": "stdout",
     "output_type": "stream",
     "text": [
      "Platform: cp37-cp37m Accelerator: cu80\n",
      "\u001b[31m  ERROR: HTTP error 403 while getting http://download.pytorch.org/whl/cu80/torch-0.4.0-cp37-cp37m-linux_x86_64.whl\u001b[0m\n",
      "\u001b[31m  ERROR: Could not install requirement torch==0.4.0 from http://download.pytorch.org/whl/cu80/torch-0.4.0-cp37-cp37m-linux_x86_64.whl because of error 403 Client Error: Forbidden for url: http://download.pytorch.org/whl/cu80/torch-0.4.0-cp37-cp37m-linux_x86_64.whl\u001b[0m\n",
      "\u001b[31mERROR: Could not install requirement torch==0.4.0 from http://download.pytorch.org/whl/cu80/torch-0.4.0-cp37-cp37m-linux_x86_64.whl because of HTTP error 403 Client Error: Forbidden for url: http://download.pytorch.org/whl/cu80/torch-0.4.0-cp37-cp37m-linux_x86_64.whl for URL http://download.pytorch.org/whl/cu80/torch-0.4.0-cp37-cp37m-linux_x86_64.whl\u001b[0m\n",
      "Torch 0.4.1.post2 CUDA 9.0.176\n",
      "Device: cuda:0\n"
     ]
    }
   ],
   "source": [
    "from os import path\n",
    "from wheel.pep425tags import get_abbr_impl, get_impl_ver, get_abi_tag\n",
    "platform = '{}{}-{}'.format(get_abbr_impl(), get_impl_ver(), get_abi_tag())\n",
    "\n",
    "accelerator = 'cu80' #'cu80' if path.exists('/opt/bin/nvidia-smi') else 'cpu'\n",
    "print('Platform:', platform, 'Accelerator:', accelerator)\n",
    "\n",
    "!pip install --upgrade --force-reinstall -q http://download.pytorch.org/whl/{accelerator}/torch-0.4.0-{platform}-linux_x86_64.whl torchvision\n",
    "\n",
    "import torch\n",
    "print('Torch', torch.__version__, 'CUDA', torch.version.cuda)\n",
    "print('Device:', torch.device('cuda:0'))"
   ]
  },
  {
   "cell_type": "code",
   "execution_count": 5,
   "metadata": {},
   "outputs": [
    {
     "data": {
      "text/plain": [
       "4"
      ]
     },
     "execution_count": 5,
     "metadata": {},
     "output_type": "execute_result"
    }
   ],
   "source": [
    "torch.cuda.device_count()"
   ]
  },
  {
   "cell_type": "code",
   "execution_count": 6,
   "metadata": {},
   "outputs": [
    {
     "data": {
      "text/plain": [
       "4"
      ]
     },
     "execution_count": 6,
     "metadata": {},
     "output_type": "execute_result"
    }
   ],
   "source": [
    "torch._C._cuda_getDeviceCount()"
   ]
  },
  {
   "cell_type": "code",
   "execution_count": null,
   "metadata": {},
   "outputs": [
    {
     "name": "stdout",
     "output_type": "stream",
     "text": [
      "Loading ../../data/DIV2K/bin/train_bin_HR.pt...\n",
      "Loading ../../data/DIV2K/bin/train_bin_LR_X1.pt...\n",
      "Loading ../../data/DIV2K/bin/test_bin_HR.pt...\n",
      "Loading ../../data/DIV2K/bin/test_bin_LR_X1.pt...\n",
      "Making model...\n",
      "    Total params: 48.57M\n",
      "Preparing loss function:\n",
      "1.000 * SL1\n",
      "[Epoch 1]\tLearning rate: 1.00e-4\n"
     ]
    }
   ],
   "source": [
    "!bash train.sh"
   ]
  },
  {
   "cell_type": "code",
   "execution_count": 7,
   "metadata": {},
   "outputs": [
    {
     "name": "stdout",
     "output_type": "stream",
     "text": [
      "Requirement already satisfied: numpy==1.15.0 in /home/purva/anaconda3/lib/python3.7/site-packages (1.15.0)\r\n"
     ]
    }
   ],
   "source": [
    "!pip install numpy==1.15.0"
   ]
  },
  {
   "cell_type": "code",
   "execution_count": 8,
   "metadata": {},
   "outputs": [
    {
     "name": "stdout",
     "output_type": "stream",
     "text": [
      "Requirement already satisfied: torch==0.4.1.post2 in /home/purva/anaconda3/lib/python3.7/site-packages (0.4.1.post2)\r\n"
     ]
    }
   ],
   "source": [
    "!pip install torch==0.4.1.post2"
   ]
  },
  {
   "cell_type": "code",
   "execution_count": null,
   "metadata": {},
   "outputs": [],
   "source": []
  }
 ],
 "metadata": {
  "kernelspec": {
   "display_name": "Python 3",
   "language": "python",
   "name": "python3"
  },
  "language_info": {
   "codemirror_mode": {
    "name": "ipython",
    "version": 3
   },
   "file_extension": ".py",
   "mimetype": "text/x-python",
   "name": "python",
   "nbconvert_exporter": "python",
   "pygments_lexer": "ipython3",
   "version": "3.7.3"
  }
 },
 "nbformat": 4,
 "nbformat_minor": 2
}
